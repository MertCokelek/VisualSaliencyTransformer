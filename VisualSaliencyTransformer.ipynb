{
 "cells": [
  {
   "cell_type": "markdown",
   "id": "c66b9ae6-ffed-44b6-a8dc-4e0510c8638d",
   "metadata": {
    "jp-MarkdownHeadingCollapsed": true,
    "tags": []
   },
   "source": [
    "# **Init**"
   ]
  },
  {
   "cell_type": "code",
   "execution_count": 1,
   "id": "c854cbc2-4bb0-4278-89fd-e0f96a875908",
   "metadata": {
    "tags": []
   },
   "outputs": [],
   "source": [
    "# using Pkg; installed = Pkg.installed()\n",
    "# for p in (\"Images\", \"Colors\", \"Plots\", \"IterTools\", \"PyCall\", \"Einsum\")\n",
    "#     haskey(installed,p) || Pkg.add(p)\n",
    "# end"
   ]
  },
  {
   "cell_type": "code",
   "execution_count": 2,
   "id": "ea9dee6c",
   "metadata": {},
   "outputs": [],
   "source": [
    "using Pkg\n",
    "using PyCall\n",
    "using Knet\n",
    "using Knet.CUDA\n",
    "using Knet: atype\n",
    "using Einsum\n",
    "@pyimport torch\n",
    "@pyimport torch.nn as nn"
   ]
  },
  {
   "cell_type": "code",
   "execution_count": 3,
   "id": "558ad121-f5a7-47e7-bd8b-b159829f4baf",
   "metadata": {},
   "outputs": [
    {
     "data": {
      "text/plain": [
       "2-element Vector{CuDevice}:\n",
       " CuDevice(0): NVIDIA GeForce RTX 3090\n",
       " CuDevice(1): NVIDIA GeForce RTX 3090"
      ]
     },
     "execution_count": 3,
     "metadata": {},
     "output_type": "execute_result"
    }
   ],
   "source": [
    "collect(devices())"
   ]
  },
  {
   "cell_type": "code",
   "execution_count": 4,
   "id": "81d4a878-47a4-43b6-8f4d-d0c4f464fea9",
   "metadata": {},
   "outputs": [
    {
     "data": {
      "text/plain": [
       "CuDevice(0): NVIDIA GeForce RTX 3090"
      ]
     },
     "execution_count": 4,
     "metadata": {},
     "output_type": "execute_result"
    }
   ],
   "source": [
    "device!(0)\n",
    "device()"
   ]
  },
  {
   "cell_type": "markdown",
   "id": "dcd8cd74-43ca-4051-bba1-2f8cf3ff9f2b",
   "metadata": {
    "jp-MarkdownHeadingCollapsed": true,
    "tags": []
   },
   "source": [
    "# **Dataset.jl**"
   ]
  },
  {
   "cell_type": "code",
   "execution_count": 5,
   "id": "2c6deca0-775d-49d2-955b-1dc0784d16b2",
   "metadata": {},
   "outputs": [],
   "source": [
    "using Pkg, Colors, Images, Knet, Statistics, Plots; default(fmt = :png) \n",
    "using Base.Iterators: flatten\n",
    "using IterTools: ncycle, takenth"
   ]
  },
  {
   "cell_type": "code",
   "execution_count": 6,
   "id": "9f1686a8-dc1b-4c0f-a297-85ddfc8b0573",
   "metadata": {},
   "outputs": [],
   "source": [
    "train_image_paths = split(read(`ls -1v /home/mertcokelek/Desktop/Github/VST/RGB_VST/Data/DUTS/DUTS-TR/DUTS-TR-Image`, String));\n",
    "train_mask_paths = split(read(`ls -1v /home/mertcokelek/Desktop/Github/VST/RGB_VST/Data/DUTS/DUTS-TR/DUTS-TR-Mask`, String));\n",
    "train_contour_paths = split(read(`ls -1v /home/mertcokelek/Desktop/Github/VST/RGB_VST/Data/DUTS/DUTS-TR/DUTS-TR-Mask`, String));\n",
    "\n",
    "train_image_paths = [\"/home/mertcokelek/Desktop/Github/VST/RGB_VST/Data/DUTS/DUTS-TR/DUTS-TR-Image/\"*i for i in train_image_paths]\n",
    "train_mask_paths = [\"/home/mertcokelek/Desktop/Github/VST/RGB_VST/Data/DUTS/DUTS-TR/DUTS-TR-Mask/\"*i for i in train_mask_paths];\n",
    "train_contour_paths = [\"/home/mertcokelek/Desktop/Github/VST/RGB_VST/Data/DUTS/DUTS-TR/DUTS-TR-Mask/\"*i for i in train_contour_paths];\n"
   ]
  },
  {
   "cell_type": "code",
   "execution_count": 7,
   "id": "fbb46263-e705-422a-9d57-faf9ee3dd715",
   "metadata": {},
   "outputs": [
    {
     "data": {
      "text/plain": [
       "preprocess_img (generic function with 1 method)"
      ]
     },
     "execution_count": 7,
     "metadata": {},
     "output_type": "execute_result"
    }
   ],
   "source": [
    "function preprocess_img(instance; imsize=224, random_crop=true, random_flip=true)\n",
    "    new_img = deepcopy(instance[:,:,1]) # img = 0 at the end?\n",
    "    new_msk = deepcopy(instance[:,:,2]) # img = 0 at the end?\n",
    "    new_cnt = deepcopy(instance[:,:,3]) # img = 0 at the end?\n",
    "    if random_flip\n",
    "        if rand() > 0.5\n",
    "            new_img = reverse(new_img, dims=2)\n",
    "            new_msk = reverse(new_msk, dims=2)\n",
    "            new_cnt = reverse(new_cnt, dims=2)\n",
    "        end\n",
    "    end\n",
    "    \n",
    "    if random_crop\n",
    "        scale_size = 256\n",
    "        x1 = rand(1: scale_size-imsize)\n",
    "        y1 = rand(1: scale_size-imsize)\n",
    "        new_img = new_img[x1:x1+imsize-1, y1:y1+imsize-1]\n",
    "        new_msk = new_msk[x1:x1+imsize-1, y1:y1+imsize-1]\n",
    "        new_cnt = new_cnt[x1:x1+imsize-1, y1:y1+imsize-1]\n",
    "    end\n",
    "    return new_img, new_msk, new_cnt\n",
    "end\n"
   ]
  },
  {
   "cell_type": "code",
   "execution_count": 8,
   "id": "8d4d5699-f7db-4a2c-9f05-885b5be0efa0",
   "metadata": {},
   "outputs": [],
   "source": [
    "function load_data(img_paths, mask_paths, contour_paths; imsize=224, temp_n = 32)\n",
    "    images = 0\n",
    "    labels = 0\n",
    "    contours = 0\n",
    "    first = true\n",
    "    temp_n_samples = 0\n",
    "    for (path_img, path_msk, path_con) in zip(img_paths, mask_paths, contour_paths)\n",
    "        if temp_n_samples < temp_n\n",
    "            temp_n_samples += 1\n",
    "            img = Images.imresize(load(path_img), 256, 256)\n",
    "            label = Images.imresize(load(path_msk), 256, 256)\n",
    "            contour = Images.imresize(load(path_con), 256, 256)\n",
    "            \n",
    "            if first\n",
    "                images = cat(img, dims=4)\n",
    "                labels = cat(label, dims=3)\n",
    "                contours = cat(label, dims=3)\n",
    "                first = false\n",
    "            else\n",
    "                images = cat(images, img, dims=4)\n",
    "                labels = cat(labels, label, dims=3)\n",
    "                contours = cat(contours, contour, dims=3)\n",
    "            end\n",
    "        end\n",
    "    end\n",
    "    # gt = permutedims(cat(labels, contours, dims=4), [1,2,4,3]) # GT's are concatenated. Permute required for Knet Minibatch\n",
    "    gt = cat(labels, contours, dims=4) # GT's are concatenated. Permute required for Knet Minibatch\n",
    "    return images, permutedims(gt, (1,2,4,3))\n",
    "end;"
   ]
  },
  {
   "cell_type": "code",
   "execution_count": 9,
   "id": "968bc6f1-a9e8-4715-8874-26ec5d2a38c6",
   "metadata": {
    "tags": []
   },
   "outputs": [
    {
     "name": "stdout",
     "output_type": "stream",
     "text": [
      "(3, 224, 224)\n",
      "(224, 224)\n",
      "(224, 224)\n",
      "\n",
      "(3, 224, 224)\n",
      "(224, 224)\n",
      "(224, 224)\n",
      "\n",
      "(3, 224, 224)\n",
      "(224, 224)\n",
      "(224, 224)\n",
      "\n",
      "(3, 224, 224)\n",
      "(224, 224)\n",
      "(224, 224)\n",
      "\n"
     ]
    }
   ],
   "source": [
    "dataset_train = load_data(train_image_paths, train_mask_paths, train_contour_paths)\n",
    "x_train, y_train = dataset_train;\n",
    "\n",
    "size(x_train), size(y_train)\n",
    "\n",
    "batch_size = 4\n",
    "train_data = Knet.minibatch(x_train, y_train, batch_size)\n",
    "\n",
    "x, y = first(train_data);\n",
    "imgs = x[:,:,1,:]\n",
    "msks = y[:,:,1,:]\n",
    "cnts = y[:,:,2,:]\n",
    "size(imgs), size(msks), size(cnts)\n",
    "\n",
    "for i in 1:batch_size\n",
    "    sample, mask, cont = preprocess_img.(eachslice(cat(imgs, msks, cnts, dims=4), dims=3))[i];   \n",
    "    mask = channelview(Gray.(mask)) # Convert gt to grayscale\n",
    "    cont = channelview(Gray.(cont)) # Convert gt to grayscale\n",
    "    \n",
    "    println(size(channelview(sample)))\n",
    "    println(size(mask))\n",
    "    println(size(cont))\n",
    "    println()\n",
    "end"
   ]
  },
  {
   "cell_type": "code",
   "execution_count": 10,
   "id": "dd948abc-b79d-40d7-af36-d5b9c528c430",
   "metadata": {
    "jp-MarkdownHeadingCollapsed": true,
    "tags": []
   },
   "outputs": [
    {
     "ename": "LoadError",
     "evalue": "UndefVarError: token_transformer not defined",
     "output_type": "error",
     "traceback": [
      "UndefVarError: token_transformer not defined",
      "",
      "Stacktrace:",
      " [1] top-level scope",
      "   @ :0",
      " [2] eval",
      "   @ ./boot.jl:360 [inlined]",
      " [3] include_string(mapexpr::typeof(REPL.softscope), mod::Module, code::String, filename::String)",
      "   @ Base ./loading.jl:1116"
     ]
    }
   ],
   "source": [
    "mutable struct LayerNorm; a; b; ϵ; end\n",
    "\n",
    "function LayerNorm(dmodel; eps=1e-6)\n",
    "    a = param(dmodel; init=ones)\n",
    "    b = param(dmodel; init=zeros)\n",
    "    LayerNorm(a, b, eps)\n",
    "end\n",
    "\n",
    "function (l::LayerNorm)(x, o...)\n",
    "    μ = mean(x,dims=1)\n",
    "    σ = std(x,mean=μ,dims=1)\n",
    "    ϵ = eltype(x)(l.ϵ)\n",
    "    l.a .* (x .- μ) ./ (σ .+ ϵ) .+ l.b # To Do: doing x .- μ twice?\n",
    "end\n",
    "\n",
    "\n",
    "mutable struct Linear; w; b; end\n",
    "\n",
    "function Linear(input::Int,outputs...; bias=true)\n",
    "    Linear(param(outputs...,input), bias ? param0(outputs...) : nothing)\n",
    "end\n",
    "\n",
    "function (l::Linear)(x)\n",
    "    W1,W2,X1,X2 = size(l.w)[1:end-1], size(l.w)[end], size(x,1), size(x)[2:end]; \n",
    "    @assert W2===X1\n",
    "    y = reshape(l.w,:,W2) * reshape(x,X1,:)\n",
    "    y = reshape(y, W1..., X2...)\n",
    "    if l.b !== nothing; y = y .+ l.b; end\n",
    "    return y\n",
    "end\n",
    "\n",
    "# Chain\n",
    "mutable struct Sequential; layers; end\n",
    "\n",
    "function Sequential(layer1, layer2, layers...)\n",
    "    Sequential((layer1, layer2, layers...))\n",
    "end\n",
    "\n",
    "function (l::Sequential)(x, o...)\n",
    "    for layer in l.layers\n",
    "        x = layer(x, o...)\n",
    "    end\n",
    "    return x\n",
    "end\n",
    "\n",
    "\n",
    "# using Knet.Layers21: dropout\n",
    "using Knet.Ops21: dropout\n",
    "\n",
    "struct Dropout; p; end\n",
    "\n",
    "function (l::Dropout)(x)        \n",
    "    dropout(x, l.p)\n",
    "end\n",
    "token_transformer\n",
    "Attention, Token_transformer\n",
    "\n"
   ]
  },
  {
   "cell_type": "code",
   "execution_count": 11,
   "id": "368c12e6-0f32-4d9c-8591-c2f9915e1eac",
   "metadata": {
    "tags": []
   },
   "outputs": [],
   "source": [
    "using Pkg, Colors, Images, Knet, Statistics, Plots; default(fmt = :png) \n",
    "using Base.Iterators: flatten\n",
    "using IterTools: ncycle, takenth"
   ]
  },
  {
   "cell_type": "code",
   "execution_count": 12,
   "id": "74954d23-a40f-4b9e-b5a6-151e17535287",
   "metadata": {
    "tags": []
   },
   "outputs": [],
   "source": [
    "train_image_paths = split(read(`ls -1v /home/mertcokelek/Desktop/Github/VST/RGB_VST/Data/DUTS/DUTS-TR/DUTS-TR-Image`, String));\n",
    "train_mask_paths = split(read(`ls -1v /home/mertcokelek/Desktop/Github/VST/RGB_VST/Data/DUTS/DUTS-TR/DUTS-TR-Mask`, String));\n",
    "train_contour_paths = split(read(`ls -1v /home/mertcokelek/Desktop/Github/VST/RGB_VST/Data/DUTS/DUTS-TR/DUTS-TR-Mask`, String));\n",
    "\n",
    "train_image_paths = [\"/home/mertcokelek/Desktop/Github/VST/RGB_VST/Data/DUTS/DUTS-TR/DUTS-TR-Image/\"*i for i in train_image_paths]\n",
    "train_mask_paths = [\"/home/mertcokelek/Desktop/Github/VST/RGB_VST/Data/DUTS/DUTS-TR/DUTS-TR-Mask/\"*i for i in train_mask_paths];\n",
    "train_contour_paths = [\"/home/mertcokelek/Desktop/Github/VST/RGB_VST/Data/DUTS/DUTS-TR/DUTS-TR-Mask/\"*i for i in train_contour_paths];"
   ]
  },
  {
   "cell_type": "code",
   "execution_count": 13,
   "id": "3db7b82a-8ad5-47f7-999c-0b494fb6a3e4",
   "metadata": {
    "tags": []
   },
   "outputs": [
    {
     "data": {
      "text/plain": [
       "preprocess_img (generic function with 1 method)"
      ]
     },
     "execution_count": 13,
     "metadata": {},
     "output_type": "execute_result"
    }
   ],
   "source": [
    "function preprocess_img(instance; imsize=224, random_crop=true, random_flip=true)\n",
    "    new_img = deepcopy(instance[:,:,1]) # img = 0 at the end?\n",
    "    new_msk = deepcopy(instance[:,:,2]) # img = 0 at the end?\n",
    "    new_cnt = deepcopy(instance[:,:,3]) # img = 0 at the end?\n",
    "    if random_flip\n",
    "        if rand() > 0.5\n",
    "            new_img = reverse(new_img, dims=2)\n",
    "            new_msk = reverse(new_msk, dims=2)\n",
    "            new_cnt = reverse(new_cnt, dims=2)\n",
    "        end\n",
    "    end\n",
    "    \n",
    "    if random_crop\n",
    "        scale_size = 256\n",
    "        x1 = rand(1: scale_size-imsize)\n",
    "        y1 = rand(1: scale_size-imsize)\n",
    "        new_img = new_img[x1:x1+imsize-1, y1:y1+imsize-1]\n",
    "        new_msk = new_msk[x1:x1+imsize-1, y1:y1+imsize-1]\n",
    "        new_cnt = new_cnt[x1:x1+imsize-1, y1:y1+imsize-1]\n",
    "    end\n",
    "    return new_img, new_msk, new_cnt\n",
    "end\n"
   ]
  },
  {
   "cell_type": "code",
   "execution_count": 14,
   "id": "14a0121b-9ac5-4bb5-ad0d-768ef6d7c7c3",
   "metadata": {},
   "outputs": [],
   "source": [
    "function load_data(img_paths, mask_paths, contour_paths; imsize=224, temp_n = 32)\n",
    "    images = 0\n",
    "    labels = 0\n",
    "    contours = 0\n",
    "    first = true\n",
    "    temp_n_samples = 0\n",
    "    for (path_img, path_msk, path_con) in zip(img_paths, mask_paths, contour_paths)\n",
    "        if temp_n_samples < temp_n\n",
    "            temp_n_samples += 1\n",
    "            img = Images.imresize(load(path_img), 256, 256)\n",
    "            label = Images.imresize(load(path_msk), 256, 256)\n",
    "            contour = Images.imresize(load(path_con), 256, 256)\n",
    "            \n",
    "            if first\n",
    "                images = cat(img, dims=4)\n",
    "                labels = cat(label, dims=3)\n",
    "                contours = cat(label, dims=3)\n",
    "                first = false\n",
    "            else\n",
    "                images = cat(images, img, dims=4)\n",
    "                labels = cat(labels, label, dims=3)\n",
    "                contours = cat(contours, contour, dims=3)\n",
    "            end\n",
    "        end\n",
    "    end\n",
    "    # gt = permutedims(cat(labels, contours, dims=4), [1,2,4,3]) # GT's are concatenated. Permute required for Knet Minibatch\n",
    "    gt = cat(labels, contours, dims=4) # GT's are concatenated. Permute required for Knet Minibatch\n",
    "    return images, permutedims(gt, (1,2,4,3))\n",
    "end;"
   ]
  },
  {
   "cell_type": "code",
   "execution_count": 15,
   "id": "34164a02-f99e-455d-8e2a-5ecf7ca9195b",
   "metadata": {},
   "outputs": [
    {
     "name": "stdout",
     "output_type": "stream",
     "text": [
      "(3, 224, 224)\n",
      "(224, 224)\n",
      "(224, 224)\n",
      "\n",
      "(3, 224, 224)\n",
      "(224, 224)\n",
      "(224, 224)\n",
      "\n",
      "(3, 224, 224)\n",
      "(224, 224)\n",
      "(224, 224)\n",
      "\n",
      "(3, 224, 224)\n",
      "(224, 224)\n",
      "(224, 224)\n",
      "\n"
     ]
    }
   ],
   "source": [
    "dataset_train = load_data(train_image_paths, train_mask_paths, train_contour_paths)\n",
    "x_train, y_train = dataset_train;\n",
    "\n",
    "\n",
    "size(x_train), size(y_train)\n",
    "\n",
    "\n",
    "batch_size = 4\n",
    "train_data = Knet.minibatch(x_train, y_train, batch_size)\n",
    "\n",
    "\n",
    "x, y = first(train_data);\n",
    "imgs = x[:,:,1,:]\n",
    "msks = y[:,:,1,:]\n",
    "cnts = y[:,:,2,:]\n",
    "size(imgs), size(msks), size(cnts)\n",
    "\n",
    "\n",
    "for i in 1:batch_size\n",
    "    sample, mask, cont = preprocess_img.(eachslice(cat(imgs, msks, cnts, dims=4), dims=3))[i];   \n",
    "    mask = channelview(Gray.(mask)) # Convert gt to grayscale\n",
    "    cont = channelview(Gray.(cont)) # Convert gt to grayscale\n",
    "    \n",
    "    println(size(channelview(sample)))\n",
    "    println(size(mask))\n",
    "    println(size(cont))\n",
    "    println()\n",
    "end"
   ]
  },
  {
   "cell_type": "markdown",
   "id": "87878eb0",
   "metadata": {
    "tags": []
   },
   "source": [
    "# **Implementation**"
   ]
  },
  {
   "cell_type": "markdown",
   "id": "363ada5a-88b5-4eda-80ae-8ae2570b6edf",
   "metadata": {
    "jp-MarkdownHeadingCollapsed": true,
    "tags": []
   },
   "source": [
    "## **utils.jl**\n",
    "**Linear, \n",
    "LayerNorm, Sequential, Dropout**"
   ]
  },
  {
   "cell_type": "code",
   "execution_count": 16,
   "id": "91802a8c-3439-401d-8ed7-0a2eb7cc7bfd",
   "metadata": {},
   "outputs": [],
   "source": [
    "mutable struct LayerNorm; a; b; ϵ; end\n",
    "\n",
    "function LayerNorm(dmodel; eps=1e-6)\n",
    "    a = param(dmodel; init=ones)\n",
    "    b = param(dmodel; init=zeros)\n",
    "    LayerNorm(a, b, eps)\n",
    "end\n",
    "\n",
    "function (l::LayerNorm)(x, o...)\n",
    "    μ = mean(x,dims=1)\n",
    "    σ = std(x,mean=μ,dims=1)\n",
    "    ϵ = eltype(x)(l.ϵ)\n",
    "    l.a .* (x .- μ) ./ (σ .+ ϵ) .+ l.b # To Do: doing x .- μ twice?\n",
    "end\n",
    "\n",
    "\n",
    "mutable struct Linear; w; b; end\n",
    "\n",
    "function Linear(input::Int,outputs...; bias=true)\n",
    "    Linear(param(outputs...,input), bias ? param0(outputs...) : nothing)\n",
    "end\n",
    "\n",
    "function (l::Linear)(x)\n",
    "    W1,W2,X1,X2 = size(l.w)[1:end-1], size(l.w)[end], size(x,1), size(x)[2:end]; \n",
    "    @assert W2===X1\n",
    "    y = reshape(l.w,:,W2) * reshape(x,X1,:)\n",
    "    y = reshape(y, W1..., X2...)\n",
    "    if l.b !== nothing; y = y .+ l.b; end\n",
    "    return y\n",
    "end\n",
    "\n",
    "# Chain\n",
    "mutable struct Sequential; layers; end\n",
    "\n",
    "function Sequential(layer1, layer2, layers...)\n",
    "    Sequential((layer1, layer2, layers...))\n",
    "end\n",
    "\n",
    "function (l::Sequential)(x, o...)\n",
    "    for layer in l.layers\n",
    "        x = layer(x, o...)\n",
    "    end\n",
    "    return x\n",
    "end\n",
    "\n",
    "\n",
    "# using Knet.Layers21: dropout\n",
    "using Knet.Ops21: dropout\n",
    "\n",
    "struct Dropout; p; end\n",
    "\n",
    "function (l::Dropout)(x)        \n",
    "    dropout(x, l.p)\n",
    "end"
   ]
  },
  {
   "cell_type": "markdown",
   "id": "cfabcbcf-5681-4bda-b632-379865cbbb6c",
   "metadata": {
    "tags": []
   },
   "source": [
    "## **token_transformer.jl**\n",
    "**Attention, Token_transformer**"
   ]
  },
  {
   "cell_type": "code",
   "execution_count": 62,
   "id": "aecc4ef6-05c5-444c-9111-ad903b8dee27",
   "metadata": {},
   "outputs": [],
   "source": [
    "mutable struct Attention\n",
    "    dim; num_heads; in_dim; qkv_bias; qk_scale; attn_drop; proj_drop;\n",
    "    \n",
    "    scale; qkv; proj;\n",
    "    function Attention(;dim=784, in_dim=0, num_heads=8, qkv_bias=false, qk_scale=false, attn_drop=0., proj_drop=0.)\n",
    "        self = new(dim, num_heads, qkv_bias, qk_scale, attn_drop, proj_drop)\n",
    "        self.num_heads = num_heads\n",
    "        self.in_dim = in_dim\n",
    "        \n",
    "        head_dim = dim ÷ num_heads\n",
    "        \n",
    "        self.scale = qk_scale || head_dim^-0.5\n",
    "        \n",
    "        # Seperating qkv.\n",
    "        self.qkv = Linear(dim, in_dim*3, bias=qkv_bias)\n",
    "        \n",
    "        # self.q = Linear(dim, in_dim, bias=qkv_bias)\n",
    "        # self.k = Linear(dim, in_dim, bias=qkv_bias)\n",
    "        # self.v = Linear(dim, in_dim, bias=qkv_bias)\n",
    "        \n",
    "        self.attn_drop = Dropout(attn_drop)\n",
    "\n",
    "        self.proj = Linear(in_dim, in_dim)\n",
    "        self.proj_drop = Dropout(proj_drop)\n",
    "        return self\n",
    "    end\n",
    "end\n",
    "\n",
    "\n",
    "function(self::Attention)(x)\n",
    "    B, N, C = size(x)\n",
    "    \n",
    "    qkv = permutedims(reshape(self.qkv(x), (B, N, 3, self.num_heads, self.in_dim)), (3,1,4,2,5)) # Old (VST PyTorch implementation) Merged QKV. \n",
    "    q, k, v = qkv[1], qkv[2], qkv[3]\n",
    "    # q, k, v = qkv[1,:,:,:,:], qkv[2,:,:,:,:], qkv[3,:,:,:,:]\n",
    "\n",
    "    # q = permutedims(reshape(self.q(x), (B, N, 1, self.num_heads, self.in_dim)), (3,1,4,2,5))[1,:,:,:,:]\n",
    "    # k = permutedims(reshape(self.k(x), (B, N, 1, self.num_heads, self.in_dim)), (3,1,4,2,5))[1,:,:,:,:]\n",
    "    # v = permutedims(reshape(self.v(x), (B, N, 1, self.num_heads, self.in_dim)), (3,1,4,2,5))[1,:,:,:,:]\n",
    "    \n",
    "    attn = (q * transposedims(k, -2, -1)) .* self.scale\n",
    "    softmax_dim = length(size(attn))\n",
    "    attn = softmax(attn, dims=softmax_dim)\n",
    "    attn = self.attn_drop(attn)\n",
    "    \n",
    "    x = reshape(transposedims(attn * v, 1, 2), (B, N, self.in_dim))\n",
    "    x = self.proj(x)\n",
    "    x = self.proj_drop(x, self.proj_drop)\n",
    "    return x\n",
    "end \n"
   ]
  },
  {
   "cell_type": "code",
   "execution_count": 67,
   "id": "1591312a-74ba-4f6f-8df7-d8286324c708",
   "metadata": {},
   "outputs": [],
   "source": [
    "using Knet.Ops21:gelu\n",
    "mutable struct Token_transformer\n",
    "    dim; in_dim; num_heads; mlp_ratio; qkv_bias; qk_scale; drop; attn_drop; drop_path; act_layer; norm_layer;\n",
    "    \n",
    "    norm1; attn; norm2; mlp;\n",
    "    \n",
    "    function Token_transformer(dim, in_dim, num_heads; mlp_ratio=1, qkv_bias=false, qk_scale=false, drop=0., attn_drop=0., drop_path=0., proj_drop=0., act_layer=\"gelu\", norm_layer=\"LayerNorm\")\n",
    "        self = new(dim, in_dim, num_heads, mlp_ratio, qkv_bias, qk_scale, drop, attn_drop, drop_path, act_layer, norm_layer)\n",
    "        self.norm1=LayerNorm(dim)\n",
    "        self.attn = Attention(;dim=dim, in_dim=in_dim, num_heads=num_heads, qkv_bias=qkv_bias, qk_scale=qk_scale,attn_drop=attn_drop, proj_drop=proj_drop)\n",
    "        # self.drop_path = DropPath(drop_path) if drop_path > 0. else nn.Identity()\n",
    "        self.norm2 = LayerNorm(in_dim)\n",
    "        self.mlp = Mlp(in_dim;hidden_features=convert(Int64, in_dim*mlp_ratio), out_features=in_dim, act_layer=gelu, drop=drop)\n",
    "        # self.mlp = Mlp(in_dim;hidden_features=in_dim*mlp_ratio, out_features=in_dim, act_layer=gelu, drop=drop)\n",
    "        return self\n",
    "    end\n",
    "end\n",
    "\n",
    "\n",
    "function (self::Token_transformer)(x)\n",
    "    x = self.attn(self.norm1(x))\n",
    "    x = x + self.mlp(self.norm2(x))\n",
    "    # x = x + self.drop_path(self.mlp(self.norm2(x)))\n",
    "    return x\n",
    "end"
   ]
  },
  {
   "cell_type": "markdown",
   "id": "1bcde7ac",
   "metadata": {
    "jp-MarkdownHeadingCollapsed": true,
    "tags": []
   },
   "source": [
    "## **transformer_block.jl**\n",
    "**get_sinusoid_encoding, Mlp, Block**\n"
   ]
  },
  {
   "cell_type": "markdown",
   "id": "c88c27e7-7874-4154-8553-8197491427a8",
   "metadata": {
    "jp-MarkdownHeadingCollapsed": true,
    "tags": []
   },
   "source": [
    "### get_sinusoid_encoding"
   ]
  },
  {
   "cell_type": "code",
   "execution_count": 19,
   "id": "e00f124f",
   "metadata": {},
   "outputs": [],
   "source": [
    "using Knet: atype\n",
    "struct get_sinusoid_encoding \n",
    "    w \n",
    "end\n",
    "\n",
    "function get_sinusoid_encoding(n_position, d_hid; λ=10000, atype=atype())\n",
    "    x = exp.((0:2:d_hid-1) .* -(log(λ)/d_hid)) * (0:n_position-1)'\n",
    "    pe = zeros(d_hid, n_position)\n",
    "    pe[1:2:end,:] = sin.(x)\n",
    "    pe[2:2:end,:] = cos.(x)\n",
    "    get_sinusoid_encoding(atype(pe))\n",
    "end\n",
    "\n",
    "function (l::get_sinusoid_encoding)(x)\n",
    "    x .+ l.w[:,1:size(x,2)]\n",
    "end\n",
    "\n"
   ]
  },
  {
   "cell_type": "markdown",
   "id": "95e24543-10be-44b0-96e5-637534e7a737",
   "metadata": {
    "jp-MarkdownHeadingCollapsed": true,
    "tags": []
   },
   "source": [
    "### Mlp"
   ]
  },
  {
   "cell_type": "code",
   "execution_count": 65,
   "id": "4f71dda1-eaee-4eb5-86e5-42665ac94aed",
   "metadata": {},
   "outputs": [],
   "source": [
    "mutable struct Mlp\n",
    "    in_features; hidden_features; out_features; act_layer; drop;\n",
    "    \n",
    "    fc1; act; fc2;\n",
    "    function Mlp(in_features; hidden_features=0, out_features=0, act_layer::Function=gelu, drop=0.)\n",
    "        self = new(in_features, hidden_features, out_features, act_layer, drop)\n",
    "        \n",
    "        out_features = out_features == 0 ? in_features : out_features\n",
    "        hidden_features = hidden_features == 0 ? in_features : hidden_features\n",
    "        self.fc1 = Linear(in_features, hidden_features)\n",
    "        self.act = gelu#() ????\n",
    "        self.fc2 = Linear(hidden_features, out_features)\n",
    "        # self.drop = drop # called in forward pass\n",
    "        self.drop = Dropout(drop)\n",
    "        return self\n",
    "    end\n",
    "    \n",
    "    function (self::Mlp)(x)\n",
    "        x = self.drop(self.act(self.fc1(x)), drop)\n",
    "        x = self.drop(self.fc2(x), drop)\n",
    "        return x\n",
    "    end\n",
    "end"
   ]
  },
  {
   "cell_type": "markdown",
   "id": "73d93d71-68fb-4c4c-93c2-e52ce46dba9f",
   "metadata": {
    "jp-MarkdownHeadingCollapsed": true,
    "tags": []
   },
   "source": [
    "### Attention"
   ]
  },
  {
   "cell_type": "code",
   "execution_count": 29,
   "id": "5f1d4a19-7021-4a43-811a-ae79fe1257ea",
   "metadata": {},
   "outputs": [],
   "source": [
    "function transposedims(x, dim1, dim2)\n",
    "    \"\"\"\n",
    "    Helper function equivalent to torch.Tensor.transpose(dim1, dim2)\n",
    "    \n",
    "    \"\"\"\n",
    "    size_ = [i for i in size(x)]\n",
    "    dims = length(size_)\n",
    "    dim1_ = dim1 > 0 ? dim1 : dims+dim1+1\n",
    "    dim2_ = dim2 > 0 ? dim2 : dims+dim2+1\n",
    "    \n",
    "    size_[dim1_] = dim2_\n",
    "    size_[dim2_] = dim1_\n",
    "    \n",
    "    return permutedims(x, size_)\n",
    "end\n",
    "\n",
    "mutable struct BlockAttention\n",
    "\n",
    "    dim; num_heads; qkv_bias; qk_scale; attn_drop; proj_drop;\n",
    "    \n",
    "    scale; qkv; proj;\n",
    "    function BlockAttention(;dim=784, num_heads=8, qkv_bias=false, qk_scale=false, attn_drop=0., proj_drop=0.)\n",
    "        self = new(dim, num_heads, qkv_bias, qk_scale, attn_drop, proj_drop)\n",
    "        self.num_heads = num_heads\n",
    "        head_dim = dim ÷ num_heads\n",
    "        \n",
    "        self.scale = qk_scale || head_dim^-0.5\n",
    "        \n",
    "        self.qkv = Linear(dim, dim*3, bias=qkv_bias)\n",
    "        self.attn_drop = Dropout(attn_drop)\n",
    "        self.proj = Linear(dim, dim)\n",
    "        self.proj_drop = Dropout(proj_drop)\n",
    "        return self\n",
    "    end\n",
    "end\n",
    "\n",
    "# self.attn = Attention(;dim=dim, num_heads=num_heads, qkv_bias=qkv_bias, qk_scale=qk_scale,attn_drop=attn_drop)\n",
    "\n",
    "function(self::BlockAttention)(x)\n",
    "    B, N, C = size(x)\n",
    "    qkv = permutedims(reshape(self.qkv(x), (B, N, 3, self.num_heads, C ÷ self.num_heads)), (3,1,4,2,5))\n",
    "    q, k, v = qkv[1], qkv[1], qkv[2]\n",
    "    \n",
    "    attn = (q * transposedims(k, -2, -1)) .* self.scale\n",
    "    softmax_dim = length(size(attn))\n",
    "    attn = softmax(attn, dims=softmax_dim)\n",
    "    attn = self.attn_drop(attn)\n",
    "    \n",
    "    x = reshape(transposedims(attn * v, 1, 2), (B, N, C))\n",
    "    x = self.proj(x)\n",
    "    x = self.proj_drop(x, self.proj_drop)\n",
    "    return x\n",
    "end \n",
    "    "
   ]
  },
  {
   "cell_type": "markdown",
   "id": "51f9f02e-b4e8-4c86-b0bc-6e52772527a1",
   "metadata": {
    "jp-MarkdownHeadingCollapsed": true,
    "tags": []
   },
   "source": [
    "### Block"
   ]
  },
  {
   "cell_type": "code",
   "execution_count": 30,
   "id": "15ab6eb2-6b74-43e1-8885-3e1332e1582c",
   "metadata": {},
   "outputs": [],
   "source": [
    "mutable struct Block\n",
    "    dim; num_heads; mlp_ratio; qkv_bias; qk_scale; drop; attn_drop;\n",
    "    drop_path; act_layer; norm_layer;\n",
    "    \n",
    "    norm1;\n",
    "    attn;\n",
    "    norm2;\n",
    "    mlp;\n",
    "    \n",
    "    function Block(;dim=784, num_heads=8, mlp_ratio=4.0, qkv_bias=false, qk_scale=false, drop=0., attn_drop=0.,\n",
    "        drop_path=0., act_layer::Function=gelu, norm_layer=\"LayerNorm\")\n",
    "    \n",
    "        self = new(dim, num_heads, mlp_ratio, qkv_bias, qk_scale, drop, attn_drop, drop_path, act_layer, norm_layer)\n",
    "        \n",
    "        @assert norm_layer == \"LayerNorm\"\n",
    "        self.norm1 = LayerNorm(dim)\n",
    "        self.attn = BlockAttention(;dim=dim, num_heads=num_heads, qkv_bias=qkv_bias, qk_scale=qk_scale,attn_drop=attn_drop)\n",
    "        # self.attn =  Attention(dim=dim, num_heads=num_heads, qkv_bias=qkv_bias, qk_scale=qk_scale, attn_drop=attn_drop, proj_drop=drop)\n",
    "        \n",
    "        # TODO: DropPath: If drop_path != 0., Adapt https://github.com/rwightman/pytorch-image-models/blob/f7d210d759beb00a3d0834a3ce2d93f6e17f3d38/timm/models/layers/drop.py#L160 to Julia\n",
    "        # self.drop_path = drop_path > 0.? DropPath(drop_path) : nn.Identity()  # ????\n",
    "                \n",
    "        self.norm2 = LayerNorm(dim)\n",
    "        mlp_hidden_dim = convert(Int, dim * mlp_ratio)\n",
    "        self.mlp = Mlp(dim; hidden_features=mlp_hidden_dim, act_layer=act_layer, drop=drop)\n",
    "        return self\n",
    "    end\n",
    "end\n",
    "\n",
    "function (self::Block)(x)\n",
    "    # x = x + self.drop_path(self.attn(self.norm1(x)))\n",
    "    # x = x + self.drop_path(self.mlp(self.norm2(x)))\n",
    "    \n",
    "    x = x + self.attn(self.norm1(x))\n",
    "    x = x + self.mlp(self.norm2(x))\n",
    "    return x\n",
    "end \n"
   ]
  },
  {
   "cell_type": "markdown",
   "id": "0ad56303-8e19-4161-9cb7-32a6eb6fac00",
   "metadata": {
    "jp-MarkdownHeadingCollapsed": true,
    "tags": []
   },
   "source": [
    "## **token_performer.jl**\n",
    "**Token_performer**"
   ]
  },
  {
   "cell_type": "code",
   "execution_count": 23,
   "id": "5410a3da-bcc9-42c8-8bf0-ac385d9a2256",
   "metadata": {},
   "outputs": [],
   "source": [
    "mutable struct Token_performer\n",
    "    dim; in_dim; head_cnt; kernel_ratio; dp1; dp2;\n",
    "    \n",
    "    emb; kqv; dp; proj; norm1; norm2; epsilon; mlp; m; w;\n",
    "    \n",
    "    function Token_performer(dim, in_dim; head_cnt=1, kernel_ratio=0.5, dp1=0.1, dp2=0.1)\n",
    "        self = new(dim, in_dim, head_cnt, kernel_ratio, dp1, dp2)\n",
    "        self.emb = in_dim * head_cnt\n",
    "        self.kqv = Linear(dim, 3*self.emb)\n",
    "        self.dp = Dropout(dp1)\n",
    "        # self.dp = dp1\n",
    "        self.proj = Linear(self.emb, self.emb)\n",
    "        self.head_cnt = head_cnt\n",
    "        # self.norm1 = LayerNorm(dim) # forward pass\n",
    "        # self.norm2 = LayerNorm(self.emb) \"\n",
    "\n",
    "        # TODO: gelu\n",
    "        self.mlp = Sequential(\n",
    "            Linear(self.emb, 1*self.emb),\n",
    "            gelu,\n",
    "            Linear(1*self.emb, self.emb),\n",
    "            Dropout(dp2)\n",
    "        )\n",
    "        \n",
    "        self.m = convert(Int32, self.emb * kernel_ratio)\n",
    "        self.w = rand(self.m, self.emb)\n",
    "        # TODO: Initialization method\n",
    "        self.w = convert(KnetArray, self.w)\n",
    "        return self\n",
    "    end\n",
    "end\n",
    "\n",
    "\n",
    "function prm_exp(self, x)\n",
    "    # x = (B, T, hs)\n",
    "    # w = (m, hs)\n",
    "    # return : x : B, T, m\n",
    "    # SM(x, y) = E_w[exp(w^T x - |x|/2) exp(w^T y - |y|/2)]\n",
    "    # therefore return exp(w^Tx - |x|/2)/sqrt(m)\n",
    "    \n",
    "    axis = length(size(x))\n",
    "    xd = repeat(sum(x .* x, dims=axis), 1,1,self.m) ./ 2\n",
    "    wtx = zeros(size(xd))\n",
    "    @einsum wtx[b,t,m] = x[b,t,i] * w[m, i]\n",
    "    return exp.(wtx - xd) / sqrt(self.m)\n",
    "end\n",
    "\n",
    "function single_attn(self, x)\n",
    "    kqv_out = reshape(self.kqv(x), 3, self.emb)\n",
    "    k, q, v = kqv_out[1,:], kqv_out[2,:], kqv_out[3,:]\n",
    "    kq, qp = self.prm_exp(k), self.prm_exp(q) # B, T, m\n",
    "    B, T, m = size(kq)\n",
    "    D = zeros((B, T))\n",
    "    kp_sum = sum(kp, dims=2)\n",
    "    @einsum D[b,t] = qp[b,t,i] * kp_sum[b,i]\n",
    "    D = reshape(D, (B, T, 1)) # (B, T, m) * (B, m) -> (B, T, 1)\n",
    "    kptv = zeros((B, self.emb, m)); @einsum kptv[b,n,m] = v[b,i,n] * kp[b,i,m];\n",
    "    y = zeros((B, T, self.emb));\n",
    "    @einsum y[b,t,n] = qp[b,t,i] * kptv[b,n,i]\n",
    "    y /= (repeat(D, 1, 1, self.emb) + self.epsilon)  # (B, T, emb)*Diag\n",
    "    #skip connection\n",
    "    # y = v + self.dp(self.proj(y))  # same as token_transformer in T2T layer, use v as skip connection\n",
    "    y = self.dp(self.proj(y))\n",
    "    return y\n",
    "end\n",
    "\n",
    "function (self::Token_performer)(x)\n",
    "    x += self.single_attn(LayerNorm(x))\n",
    "    x += self.mlp(LayerNorm(x))\n",
    "    return x\n",
    "end"
   ]
  },
  {
   "cell_type": "markdown",
   "id": "60ace3c2-64e9-4e79-9e49-cbaf4c779eba",
   "metadata": {
    "tags": []
   },
   "source": [
    "## **t2t_vit.jl**\n",
    "**T2T_module, T2T_ViT**"
   ]
  },
  {
   "cell_type": "markdown",
   "id": "5021b011-15be-4017-96c5-b0fdc7927f82",
   "metadata": {
    "jp-MarkdownHeadingCollapsed": true,
    "tags": []
   },
   "source": [
    "### T2T_module"
   ]
  },
  {
   "cell_type": "code",
   "execution_count": 24,
   "id": "0772d498-00d7-4907-aa61-ede6de803151",
   "metadata": {},
   "outputs": [],
   "source": [
    "mutable struct T2T_module\n",
    "    \"\"\"\n",
    "    Tokens-to-Token encoding module\n",
    "    \"\"\"\n",
    "    img_size; tokens_type;\n",
    "    in_chans\n",
    "    embed_dim; token_dim;\n",
    "    \n",
    "    \n",
    "    soft_split0; soft_split1; soft_split2\n",
    "    attention1; attention2\n",
    "    project\n",
    "    num_patches\n",
    "    \n",
    "    function T2T_module(img_size=224, \n",
    "                        tokens_type=\"transformer\", \n",
    "                        in_chans=3, \n",
    "                        embed_dim=768, \n",
    "                        token_dim=64)\n",
    "        self = new(img_size, tokens_type, in_chans, embed_dim, token_dim)\n",
    "        \n",
    "        if tokens_type == \"transformer\"\n",
    "            println(\"adopt transformer encoder for tokens-to-token\")\n",
    "            self.soft_split0 = nn.Unfold(kernel_size=(7, 7), stride=(4, 4), padding=(2, 2))\n",
    "            self.soft_split1 = nn.Unfold(kernel_size=(3, 3), stride=(2, 2), padding=(1, 1))\n",
    "            self.soft_split2 = nn.Unfold(kernel_size=(3, 3), stride=(2, 2), padding=(1, 1))\n",
    "            \n",
    "            # self.attention1 = Token_performer(in_chans*7*7, token_dim; kernel_ratio=0.5)\n",
    "            # self.attention2 = Token_performer(token_dim*3*3, token_dim; kernel_ratio=0.5)\n",
    "\n",
    "            self.attention1 = Token_transformer(in_chans * 7 * 7, token_dim, 1; mlp_ratio=1.0)\n",
    "            self.attention2 = Token_transformer(token_dim * 3 * 3, token_dim, 1; mlp_ratio=1.0)\n",
    "            self.project = Linear(token_dim * 3 * 3, embed_dim)\n",
    "        end\n",
    "        \n",
    "        self.num_patches = (img_size ÷ (4 * 2 * 2)) * (img_size ÷ (4 * 2 * 2))  # there are 3 soft split, stride are 4,2,2 seperately\n",
    "\n",
    "        return self\n",
    "        \"\"\"\n",
    "        TODO / NOTE: initially, let's just consider 'performer' model. 'transformer' & 'convolution' can be done later.\n",
    "        Performer and Transformer implemented. Pretrained weights are supplied for transformer, so it will be used. \n",
    "        TODO: Unfold currently taken from PyTorch. Might need conversion between datatypes.\n",
    "        \"\"\"\n",
    "    end\n",
    "    \n",
    "end\n",
    "\n",
    "function (self::T2T_module)(x)\n",
    "    # step0: soft split\n",
    "    x = permutedims(self.soft_split0(x), [2, 3])\n",
    "    \n",
    "    # x [B, 56*56, 147=7*7*3]\n",
    "    # iteration1: restructurization/reconstruction\n",
    "    \n",
    "    x_1_4 = self.attention1(x)\n",
    "    B, new_HW, C = size(x_1_4)\n",
    "    x = reshape(permutedims(x_1_4, [2, 3]), (B, C, convert(Int, sqrt(new_HW)), convert(Int, sqrt(new_HW))))\n",
    "    # iteration1: soft_split\n",
    "    x = permutedims(self.soft_split1(x), [2, 3])\n",
    "\n",
    "    # iteration2: restructurization/reconstruction\n",
    "    x_1_8 = self.attention2(x)\n",
    "    B, new_HW, C = size(x_1_4)\n",
    "    x = reshape(permutedims(x_1_8, [2, 3]), (B, C, convert(Int, sqrt(new_HW)), convert(Int, sqrt(new_HW))))\n",
    "    # iteration1: soft_split\n",
    "    x = permutedims(self.soft_split2(x), [2, 3])\n",
    "\n",
    "    # final_tokens\n",
    "    x = self.project(x)\n",
    "    \n",
    "    return x, x_1_8, x_1_4\n",
    "end\n",
    "    "
   ]
  },
  {
   "cell_type": "markdown",
   "id": "2e60bc55-1c42-48b1-b695-1608d583b7a7",
   "metadata": {
    "jp-MarkdownHeadingCollapsed": true,
    "tags": []
   },
   "source": [
    "### T2T_ViT"
   ]
  },
  {
   "cell_type": "code",
   "execution_count": 25,
   "id": "8a43185d-8d84-4f21-b8df-963f04a7b485",
   "metadata": {},
   "outputs": [],
   "source": [
    "mutable struct T2T_ViT; \n",
    "    img_size; tokens_type\n",
    "    in_chans; num_classes; num_features\n",
    "    embed_dim; depth\n",
    "    num_heads; mlp_ratio\n",
    "    qkv_bias; qk_scale\n",
    "    drop_rate; attn_drop_rate; drop_path_rate; \n",
    "    norm_layer;\n",
    "\n",
    "    blocks\n",
    "    norm\n",
    "    head\n",
    "    tokens_to_token\n",
    "    cls_token\n",
    "    pos_embed\n",
    "\n",
    "    function T2T_ViT(;img_size=224, \n",
    "            tokens_type=\"transformer\", \n",
    "            in_chans=3, num_classes=1000,\n",
    "            embed_dim=784,depth=12,\n",
    "            num_heads=12, mlp_ratio=4., \n",
    "            qkv_bias=false, qk_scale=false, \n",
    "            drop_rate=0., attn_drop_rate=0., drop_path_rate=0., \n",
    "            norm_layer=\"LayerNorm\"\n",
    "            )\n",
    "            \n",
    "        self = new(img_size, tokens_type, \n",
    "                    in_chans, num_classes, \n",
    "                    embed_dim,depth,num_heads,\n",
    "                    mlp_ratio,qkv_bias,qk_scale,\n",
    "                    drop_rate,attn_drop_rate,\n",
    "                    drop_path_rate,norm_layer)\n",
    "        self.num_features = embed_dim\n",
    "\n",
    "        #self.tokens_to_token = T2T_module()\n",
    "        self.tokens_to_token = T2T_module(\n",
    "                img_size,tokens_type,in_chans, embed_dim)\n",
    "        self.cls_token = convert(KnetArray, zeros(1,1,embed_dim))\n",
    "        num_patches = self.tokens_to_token.num_patches\n",
    "        self.pos_embed = reshape(get_sinusoid_encoding(num_patches + 1, embed_dim).w, (1, num_patches+1, embed_dim))  #\n",
    "        \n",
    "\n",
    "        # NOTE: In PyTorch implementation, dropout is added as a portable layer.\n",
    "        # We will add it as an operation, in the forward pass. \n",
    "        # UPDATE: probably we won't need it, since we'll use pretrained weights. \n",
    "        \n",
    "        self.drop_rate = drop_rate\n",
    "        dpr = [i for i in 0:0.25/depth:0.25] # Stochastic depth decay rule\n",
    "        self.blocks = [Block(dim=embed_dim, \n",
    "                            num_heads=num_heads, \n",
    "                            mlp_ratio=mlp_ratio, \n",
    "                            qkv_bias=qkv_bias, \n",
    "                            qk_scale=qk_scale,\n",
    "                            drop=drop_rate, \n",
    "                            attn_drop=attn_drop_rate,\n",
    "                            drop_path=dpr[i], \n",
    "                            act_layer=gelu,\n",
    "                            norm_layer=norm_layer) for i in 1:depth]\n",
    "        @assert norm_layer == \"LayerNorm\"                   \n",
    "        self.norm = LayerNorm(embed_dim)\n",
    "        # Classifier head\n",
    "        self.head = Linear(embed_dim, num_classes)\n",
    "#         For initializing weights, probably we won't need the rest.\n",
    "#         We will use pretrained weights.\n",
    "        return self\n",
    "    end\n",
    "end\n",
    "\n",
    "\n",
    "function expand(x, B)\n",
    "    \"\"\"\n",
    "    Helper function for torch.Tensor.expand()    expand(x, B) is equivalent to x.expand(B, -1, -1)\n",
    "    \"\"\"\n",
    "    res = x\n",
    "    dimx = length(size(x))\n",
    "    for i in 1:B-1\n",
    "        res = cat(res, x, dims=dimx+1)\n",
    "    end\n",
    "    permute_order = [i for i in 1:dimx]\n",
    "    insert!(permute_order, 1, dimx+1)\n",
    "    res = permutedims(res, permute_order)\n",
    "end\n",
    "\n",
    "function (self::T2T_ViT)(x)\n",
    "    B = size(x)[1]\n",
    "    x, x_1_8, x_1_4 = self.tokens_to_token(x)\n",
    "    \n",
    "    cls_tokens = expand(self.cls_token, B) # self.cls_token.expand(B, -1, -1) in Torch\n",
    "    x = hcat(cls_tokens, x)\n",
    "    x += self.pos_embed\n",
    "    # x = self.pos_drop # Dropout will not be used for now.\n",
    "    \n",
    "    # T2T-ViT backbone\n",
    "    for blk in self.blocks\n",
    "        x = blk(x)\n",
    "    end\n",
    "    \n",
    "    x = self.norm(x)\n",
    "    return x[:,2:end,:], x_1_8, x_1_4\n",
    "end"
   ]
  },
  {
   "cell_type": "markdown",
   "id": "c88ca7b5-e414-4f62-be41-0babcb5dcef2",
   "metadata": {
    "tags": []
   },
   "source": [
    "# **Load Pretrained Weights for RGB-Encoder T2T_ViT-14 Backbone**"
   ]
  },
  {
   "cell_type": "markdown",
   "id": "5d52acd2-9ba1-47d7-a8de-0a56eae5b3e9",
   "metadata": {
    "jp-MarkdownHeadingCollapsed": true,
    "tags": []
   },
   "source": [
    "## Compare Func."
   ]
  },
  {
   "cell_type": "code",
   "execution_count": 68,
   "id": "6aeb0e62-5b59-4caa-a9f6-0207d7a640ad",
   "metadata": {},
   "outputs": [
    {
     "data": {
      "text/plain": [
       "compare (generic function with 1 method)"
      ]
     },
     "execution_count": 68,
     "metadata": {},
     "output_type": "execute_result"
    }
   ],
   "source": [
    "model_path = \"/home/mertcokelek/Downloads/80.7_T2T_ViT_t_14.pth.tar\"\n",
    "\n",
    "function print_pretrained(path)\n",
    "    weights = torch.load(path, map_location=torch.device(\"cpu\"))[\"state_dict_ema\"];\n",
    "    weights = sort(collect(weights), by = x->x[1])\n",
    "\n",
    "    for (k, v) in weights\n",
    "        @show k, v.shape\n",
    "    end\n",
    "end\n",
    "\n",
    "function compare(path, model)\n",
    "    weights = torch.load(path, map_location=torch.device(\"cpu\"))[\"state_dict_ema\"];\n",
    "    for i in 1:14\n",
    "        # blocks\n",
    "        @assert size(model.blocks[i].attn.qkv.w) === size(Param(atype(weights[\"blocks.$(i-1).attn.qkv.weight\"][:cpu]()[:numpy]()))); \n",
    "        \n",
    "        @assert size(model.blocks[i].attn.proj.w) === size(Param(atype(weights[\"blocks.$(i-1).attn.proj.weight\"][:cpu]()[:numpy]()))); \n",
    "        @assert size(model.blocks[i].attn.proj.b) === size(Param(atype(weights[\"blocks.$(i-1).attn.proj.bias\"][:cpu]()[:numpy]()))); \n",
    "        \n",
    "        @assert size(model.blocks[i].mlp.fc1.w) === size(Param(atype(weights[\"blocks.$(i-1).mlp.fc1.weight\"][:cpu]()[:numpy]()))); \n",
    "        @assert size(model.blocks[i].mlp.fc1.b) === size(Param(atype(weights[\"blocks.$(i-1).mlp.fc1.bias\"][:cpu]()[:numpy]()))); \n",
    "        \n",
    "        \n",
    "        @assert size(model.blocks[i].mlp.fc2.w) === size(Param(atype(weights[\"blocks.$(i-1).mlp.fc2.weight\"][:cpu]()[:numpy]()))); \n",
    "        @assert size(model.blocks[i].mlp.fc2.b) === size(Param(atype(weights[\"blocks.$(i-1).mlp.fc2.bias\"][:cpu]()[:numpy]()))); \n",
    "        \n",
    "        @assert size(model.blocks[i].norm1.a) === size(Param(atype(weights[\"blocks.$(i-1).norm1.weight\"][:cpu]()[:numpy]()))); \n",
    "        @assert size(model.blocks[i].norm1.b) === size(Param(atype(weights[\"blocks.$(i-1).norm1.bias\"][:cpu]()[:numpy]()))); \n",
    "        \n",
    "        @assert size(model.blocks[i].norm2.a) === size(Param(atype(weights[\"blocks.$(i-1).norm2.weight\"][:cpu]()[:numpy]()))); \n",
    "        @assert size(model.blocks[i].norm2.b) === size(Param(atype(weights[\"blocks.$(i-1).norm2.bias\"][:cpu]()[:numpy]()))); \n",
    "   end\n",
    "\n",
    "    # tokens_to_token\n",
    "          # attn 1\n",
    "    @assert size(model.tokens_to_token.attention1.attn.proj.w) === size(Param(atype(weights[\"tokens_to_token.attention1.attn.proj.weight\"][:cpu]()[:numpy]()))); \n",
    "    @assert size(model.tokens_to_token.attention1.attn.proj.b) === size(Param(atype(weights[\"tokens_to_token.attention1.attn.proj.bias\"][:cpu]()[:numpy]()))); \n",
    "\n",
    "    @assert size(model.tokens_to_token.attention1.attn.qkv.w) === size(Param(atype(weights[\"tokens_to_token.attention1.attn.qkv.weight\"][:cpu]()[:numpy]()))); \n",
    "\n",
    "    @assert size(model.tokens_to_token.attention1.mlp.fc1.w) === size(Param(atype(weights[\"tokens_to_token.attention1.mlp.fc1.weight\"][:cpu]()[:numpy]()))); \n",
    "    @assert size(model.tokens_to_token.attention1.mlp.fc1.b) === size(Param(atype(weights[\"tokens_to_token.attention1.mlp.fc1.bias\"][:cpu]()[:numpy]()))); \n",
    "   \n",
    "    @assert size(model.tokens_to_token.attention1.mlp.fc2.w) === size(Param(atype(weights[\"tokens_to_token.attention1.mlp.fc2.weight\"][:cpu]()[:numpy]()))); \n",
    "    @assert size(model.tokens_to_token.attention1.mlp.fc2.b) === size(Param(atype(weights[\"tokens_to_token.attention1.mlp.fc2.bias\"][:cpu]()[:numpy]()))); \n",
    "\n",
    "    @assert size(model.tokens_to_token.attention1.norm1.a) === size(Param(atype(weights[\"tokens_to_token.attention1.norm1.weight\"][:cpu]()[:numpy]()))); \n",
    "    @assert size(model.tokens_to_token.attention1.norm1.b) === size(Param(atype(weights[\"tokens_to_token.attention1.norm1.bias\"][:cpu]()[:numpy]()))); \n",
    "    @assert size(model.tokens_to_token.attention1.norm2.a) === size(Param(atype(weights[\"tokens_to_token.attention1.norm2.weight\"][:cpu]()[:numpy]()))); \n",
    "    @assert size(model.tokens_to_token.attention1.norm2.b) === size(Param(atype(weights[\"tokens_to_token.attention1.norm2.bias\"][:cpu]()[:numpy]()))); \n",
    "    \n",
    "          # attn2\n",
    "    @assert size(model.tokens_to_token.attention2.attn.proj.w) === size(Param(atype(weights[\"tokens_to_token.attention2.attn.proj.weight\"][:cpu]()[:numpy]()))); \n",
    "    @assert size(model.tokens_to_token.attention2.attn.proj.b) === size(Param(atype(weights[\"tokens_to_token.attention2.attn.proj.bias\"][:cpu]()[:numpy]()))); \n",
    "\n",
    "    @assert size(model.tokens_to_token.attention2.attn.qkv.w) === size(Param(atype(weights[\"tokens_to_token.attention2.attn.qkv.weight\"][:cpu]()[:numpy]()))); \n",
    "\n",
    "    @assert size(model.tokens_to_token.attention2.mlp.fc1.w) === size(Param(atype(weights[\"tokens_to_token.attention2.mlp.fc1.weight\"][:cpu]()[:numpy]()))); \n",
    "    @assert size(model.tokens_to_token.attention2.mlp.fc1.b) === size(Param(atype(weights[\"tokens_to_token.attention2.mlp.fc1.bias\"][:cpu]()[:numpy]()))); \n",
    "   \n",
    "    @assert size(model.tokens_to_token.attention2.mlp.fc2.w) === size(Param(atype(weights[\"tokens_to_token.attention2.mlp.fc2.weight\"][:cpu]()[:numpy]()))); \n",
    "    @assert size(model.tokens_to_token.attention2.mlp.fc2.b) === size(Param(atype(weights[\"tokens_to_token.attention2.mlp.fc2.bias\"][:cpu]()[:numpy]()))); \n",
    "\n",
    "    @assert size(model.tokens_to_token.attention2.norm1.a) === size(Param(atype(weights[\"tokens_to_token.attention2.norm1.weight\"][:cpu]()[:numpy]()))); \n",
    "    @assert size(model.tokens_to_token.attention2.norm1.b) === size(Param(atype(weights[\"tokens_to_token.attention2.norm1.bias\"][:cpu]()[:numpy]()))); \n",
    "    @assert size(model.tokens_to_token.attention2.norm2.a) === size(Param(atype(weights[\"tokens_to_token.attention2.norm2.weight\"][:cpu]()[:numpy]()))); \n",
    "    @assert size(model.tokens_to_token.attention2.norm2.b) === size(Param(atype(weights[\"tokens_to_token.attention2.norm2.bias\"][:cpu]()[:numpy]()))); \n",
    "\n",
    "         # project\n",
    "    @assert size(model.tokens_to_token.project.w) === size(Param(atype(weights[\"tokens_to_token.project.weight\"][:cpu]()[:numpy]()))); \n",
    "    @assert size(model.tokens_to_token.project.b) === size(Param(atype(weights[\"tokens_to_token.project.bias\"][:cpu]()[:numpy]()))); \n",
    "    \n",
    "    \n",
    "    @assert size(model.cls_token) === size(Param(atype(weights[\"cls_token\"][:cpu]()[:numpy]()))); \n",
    "\n",
    "    @assert size(model.head.w) === size(Param(atype(weights[\"head.weight\"][:cpu]()[:numpy]()))); \n",
    "    @assert size(model.head.b) === size(Param(atype(weights[\"head.bias\"][:cpu]()[:numpy]()))); \n",
    "\n",
    "    @assert size(model.norm.a) === size(Param(atype(weights[\"norm.weight\"][:cpu]()[:numpy]()))); \n",
    "    @assert size(model.norm.b) === size(Param(atype(weights[\"norm.bias\"][:cpu]()[:numpy]()))); \n",
    "\n",
    "    @assert size(model.pos_embed) === size(Param(atype(weights[\"pos_embed\"][:cpu]()[:numpy]()))); \n",
    "\n",
    "end"
   ]
  },
  {
   "cell_type": "markdown",
   "id": "a4dd783b-0d7f-4e53-b832-e1e55dcff81d",
   "metadata": {
    "jp-MarkdownHeadingCollapsed": true,
    "tags": []
   },
   "source": [
    "## compare"
   ]
  },
  {
   "cell_type": "code",
   "execution_count": 71,
   "id": "9ca786aa-949a-4836-bac3-5c452c357bf7",
   "metadata": {},
   "outputs": [
    {
     "name": "stdout",
     "output_type": "stream",
     "text": [
      "adopt transformer encoder for tokens-to-token\n",
      "Weights match!\n"
     ]
    }
   ],
   "source": [
    "model_path = \"/home/mertcokelek/Downloads/80.7_T2T_ViT_t_14.pth.tar\"\n",
    "rgb_backbone = T2T_ViT(tokens_type=\"transformer\", embed_dim=384, depth=14, num_heads=6, mlp_ratio=3.);\n",
    "compare(model_path, rgb_backbone);\n",
    "println(\"Weights match!\")"
   ]
  },
  {
   "cell_type": "markdown",
   "id": "be138a67-199b-44b8-9c04-711a47307c10",
   "metadata": {
    "tags": []
   },
   "source": [
    "## Load"
   ]
  },
  {
   "cell_type": "markdown",
   "id": "7d748005-6f93-4de1-8566-fd054a92206a",
   "metadata": {
    "tags": []
   },
   "source": [
    "### **loadPretrainedWeightsT2TViT**"
   ]
  },
  {
   "cell_type": "code",
   "execution_count": 72,
   "id": "1c8c6e38-17d5-43df-8361-53b0b29ce3f2",
   "metadata": {},
   "outputs": [
    {
     "data": {
      "text/plain": [
       "loadPretrainedWeightsT2TViT (generic function with 1 method)"
      ]
     },
     "execution_count": 72,
     "metadata": {},
     "output_type": "execute_result"
    }
   ],
   "source": [
    "function print_pretrained(path)\n",
    "    weights = torch.load(path, map_location=torch.device(\"cpu\"))[\"state_dict_ema\"];\n",
    "    weights = sort(collect(weights), by = x->x[1])\n",
    "\n",
    "    for (k, v) in weights\n",
    "        @show k, v.shape\n",
    "    end\n",
    "end\n",
    "\n",
    "function loadPretrainedWeightsT2TViT(path, model)\n",
    "    weights = torch.load(path, map_location=torch.device(\"cpu\"))[\"state_dict_ema\"];\n",
    "    for i in 1:14\n",
    "        # blocks\n",
    "        model.blocks[i].attn.qkv.w = Param(atype(weights[\"blocks.$(i-1).attn.qkv.weight\"][:cpu]()[:numpy]()))\n",
    "        \n",
    "        model.blocks[i].attn.proj.w = Param(atype(weights[\"blocks.$(i-1).attn.proj.weight\"][:cpu]()[:numpy]()))\n",
    "        model.blocks[i].attn.proj.b = Param(atype(weights[\"blocks.$(i-1).attn.proj.bias\"][:cpu]()[:numpy]()))\n",
    "        \n",
    "        model.blocks[i].mlp.fc1.w = Param(atype(weights[\"blocks.$(i-1).mlp.fc1.weight\"][:cpu]()[:numpy]()))\n",
    "        model.blocks[i].mlp.fc1.b = Param(atype(weights[\"blocks.$(i-1).mlp.fc1.bias\"][:cpu]()[:numpy]()))\n",
    "        \n",
    "        \n",
    "        model.blocks[i].mlp.fc2.w = Param(atype(weights[\"blocks.$(i-1).mlp.fc2.weight\"][:cpu]()[:numpy]()))\n",
    "        model.blocks[i].mlp.fc2.b = Param(atype(weights[\"blocks.$(i-1).mlp.fc2.bias\"][:cpu]()[:numpy]()))\n",
    "        \n",
    "        model.blocks[i].norm1.a = Param(atype(weights[\"blocks.$(i-1).norm1.weight\"][:cpu]()[:numpy]()))\n",
    "        model.blocks[i].norm1.b = Param(atype(weights[\"blocks.$(i-1).norm1.bias\"][:cpu]()[:numpy]()))\n",
    "        \n",
    "        model.blocks[i].norm2.a = Param(atype(weights[\"blocks.$(i-1).norm2.weight\"][:cpu]()[:numpy]()))\n",
    "        model.blocks[i].norm2.b = Param(atype(weights[\"blocks.$(i-1).norm2.bias\"][:cpu]()[:numpy]()))\n",
    "   end\n",
    "\n",
    "    # tokens_to_token\n",
    "          # attn 1\n",
    "    model.tokens_to_token.attention1.attn.proj.w = Param(atype(weights[\"tokens_to_token.attention1.attn.proj.weight\"][:cpu]()[:numpy]()))\n",
    "    model.tokens_to_token.attention1.attn.proj.b = Param(atype(weights[\"tokens_to_token.attention1.attn.proj.bias\"][:cpu]()[:numpy]()))\n",
    "\n",
    "    model.tokens_to_token.attention1.attn.qkv.w = Param(atype(weights[\"tokens_to_token.attention1.attn.qkv.weight\"][:cpu]()[:numpy]()))\n",
    "\n",
    "    model.tokens_to_token.attention1.mlp.fc1.w = Param(atype(weights[\"tokens_to_token.attention1.mlp.fc1.weight\"][:cpu]()[:numpy]()))\n",
    "    model.tokens_to_token.attention1.mlp.fc1.b = Param(atype(weights[\"tokens_to_token.attention1.mlp.fc1.bias\"][:cpu]()[:numpy]()))\n",
    "   \n",
    "    model.tokens_to_token.attention1.mlp.fc2.w = Param(atype(weights[\"tokens_to_token.attention1.mlp.fc2.weight\"][:cpu]()[:numpy]()))\n",
    "    model.tokens_to_token.attention1.mlp.fc2.b = Param(atype(weights[\"tokens_to_token.attention1.mlp.fc2.bias\"][:cpu]()[:numpy]()))\n",
    "\n",
    "    model.tokens_to_token.attention1.norm1.a = Param(atype(weights[\"tokens_to_token.attention1.norm1.weight\"][:cpu]()[:numpy]()))\n",
    "    model.tokens_to_token.attention1.norm1.b = Param(atype(weights[\"tokens_to_token.attention1.norm1.bias\"][:cpu]()[:numpy]()))\n",
    "    model.tokens_to_token.attention1.norm2.a = Param(atype(weights[\"tokens_to_token.attention1.norm2.weight\"][:cpu]()[:numpy]()))\n",
    "    model.tokens_to_token.attention1.norm2.b = Param(atype(weights[\"tokens_to_token.attention1.norm2.bias\"][:cpu]()[:numpy]()))\n",
    "    \n",
    "          # attn2\n",
    "    model.tokens_to_token.attention2.attn.proj.w = Param(atype(weights[\"tokens_to_token.attention2.attn.proj.weight\"][:cpu]()[:numpy]()))\n",
    "    model.tokens_to_token.attention2.attn.proj.b = Param(atype(weights[\"tokens_to_token.attention2.attn.proj.bias\"][:cpu]()[:numpy]()))\n",
    "\n",
    "    model.tokens_to_token.attention2.attn.qkv.w = Param(atype(weights[\"tokens_to_token.attention2.attn.qkv.weight\"][:cpu]()[:numpy]()))\n",
    "\n",
    "    model.tokens_to_token.attention2.mlp.fc1.w = Param(atype(weights[\"tokens_to_token.attention2.mlp.fc1.weight\"][:cpu]()[:numpy]()))\n",
    "    model.tokens_to_token.attention2.mlp.fc1.b = Param(atype(weights[\"tokens_to_token.attention2.mlp.fc1.bias\"][:cpu]()[:numpy]()))\n",
    "   \n",
    "    model.tokens_to_token.attention2.mlp.fc2.w = Param(atype(weights[\"tokens_to_token.attention2.mlp.fc2.weight\"][:cpu]()[:numpy]()))\n",
    "    model.tokens_to_token.attention2.mlp.fc2.b = Param(atype(weights[\"tokens_to_token.attention2.mlp.fc2.bias\"][:cpu]()[:numpy]()))\n",
    "\n",
    "    model.tokens_to_token.attention2.norm1.a = Param(atype(weights[\"tokens_to_token.attention2.norm1.weight\"][:cpu]()[:numpy]()))\n",
    "    model.tokens_to_token.attention2.norm1.b = Param(atype(weights[\"tokens_to_token.attention2.norm1.bias\"][:cpu]()[:numpy]()))\n",
    "    model.tokens_to_token.attention2.norm2.a = Param(atype(weights[\"tokens_to_token.attention2.norm2.weight\"][:cpu]()[:numpy]()))\n",
    "    model.tokens_to_token.attention2.norm2.b = Param(atype(weights[\"tokens_to_token.attention2.norm2.bias\"][:cpu]()[:numpy]()))\n",
    "\n",
    "         # project\n",
    "    model.tokens_to_token.project.w = Param(atype(weights[\"tokens_to_token.project.weight\"][:cpu]()[:numpy]()))\n",
    "    model.tokens_to_token.project.b = Param(atype(weights[\"tokens_to_token.project.bias\"][:cpu]()[:numpy]()))\n",
    "    \n",
    "    \n",
    "    model.cls_token = Param(atype(weights[\"cls_token\"][:cpu]()[:numpy]()))\n",
    "\n",
    "    model.head.w = Param(atype(weights[\"head.weight\"][:cpu]()[:numpy]()))\n",
    "    model.head.b = Param(atype(weights[\"head.bias\"][:cpu]()[:numpy]()))\n",
    "\n",
    "    model.norm.a = Param(atype(weights[\"norm.weight\"][:cpu]()[:numpy]()))\n",
    "    model.norm.b = Param(atype(weights[\"norm.bias\"][:cpu]()[:numpy]()))\n",
    "\n",
    "    model.pos_embed = Param(atype(weights[\"pos_embed\"][:cpu]()[:numpy]()))\n",
    "\n",
    "    return model\n",
    "end"
   ]
  },
  {
   "cell_type": "markdown",
   "id": "df0617d9-cda2-478d-852a-e5d97b25592a",
   "metadata": {
    "tags": []
   },
   "source": [
    "### **Pretrained T2T-ViT Backbone**"
   ]
  },
  {
   "cell_type": "code",
   "execution_count": 74,
   "id": "d37c5d30-79fd-4690-9004-6c076710a5a6",
   "metadata": {},
   "outputs": [
    {
     "name": "stdout",
     "output_type": "stream",
     "text": [
      "adopt transformer encoder for tokens-to-token\n"
     ]
    }
   ],
   "source": [
    "model_path = \"/home/mertcokelek/Downloads/80.7_T2T_ViT_t_14.pth.tar\"\n",
    "rgb_backbone = T2T_ViT(tokens_type=\"transformer\", embed_dim=384, depth=14, num_heads=6, mlp_ratio=3.);\n",
    "model_pt = loadPretrainedWeightsT2TViT(model_path, rgb_backbone);"
   ]
  },
  {
   "cell_type": "code",
   "execution_count": 144,
   "id": "aebb7846-1ebd-4bbd-a2ba-9e965ee8353b",
   "metadata": {},
   "outputs": [
    {
     "data": {
      "text/plain": [
       "384×576 Matrix{Float32}:\n",
       "  0.031212      0.0423616    0.0252555   …   0.0895244     0.0230931\n",
       " -0.00804904    0.025808     0.0259066      -0.0202648    -0.0919013\n",
       " -0.00788274   -0.0132475    0.0158961      -0.0297205    -0.0191407\n",
       "  8.31328f-5   -0.0389053   -0.00845073     -0.0267447     0.0382369\n",
       " -0.00807459   -0.0121388    0.00430121      0.00841906    0.0239613\n",
       "  0.00103192    0.00624166  -0.00366536  …  -0.00257288   -0.00585342\n",
       "  0.00167375   -0.00193018   0.0124167      -0.0248799     0.0118877\n",
       "  0.000794168   0.0204896    0.0027418       0.00702221   -0.00964616\n",
       " -0.0129032     0.0335815    0.0275449      -0.0197243    -0.0231982\n",
       "  0.00887366   -0.0448807   -0.0530462      -0.0438835    -0.0222981\n",
       "  0.0236751     0.0443823    0.0456399   …  -0.0222495     0.0275324\n",
       " -0.000628431   0.0237954   -0.0390872      -0.0404535    -0.0587578\n",
       "  0.0353085     0.0497663    0.00265718      0.116921      0.0979557\n",
       "  ⋮                                      ⋱                 ⋮\n",
       " -0.00879405   -0.0347232   -0.0137172       0.0952681     0.0375317\n",
       "  0.000656296   0.0214117    0.0119601       0.0368839     0.0390919\n",
       "  0.0087374    -0.016256     0.00343432     -0.0162284     0.0202065\n",
       " -0.00584983    0.0241556    0.0384264   …   0.0166997     0.0434528\n",
       "  0.0105554     0.0278911   -0.0255489      -0.0818898    -0.0348042\n",
       "  0.00342429   -0.0224003   -0.00486027      0.0675787    -0.0296825\n",
       "  0.0199083    -0.0241438    0.00596009     -0.0443826     0.0455872\n",
       "  0.0125194     0.030682     0.0255425       0.0372388     0.0368133\n",
       "  0.0311663     0.0254335    0.0218854   …  -0.0170568    -0.0366243\n",
       "  0.016572      0.015157     0.00557249      0.0370541     0.0268185\n",
       "  0.00910626   -0.00689909  -0.0104409      -0.0292441    -0.0339967\n",
       "  0.00480339   -0.0148219    0.00590669      0.000698136  -0.000991272"
      ]
     },
     "execution_count": 144,
     "metadata": {},
     "output_type": "execute_result"
    }
   ],
   "source": [
    "# w = convert(Array{Float32}, model_pt.tokens_to_token.attention2.attn.proj.w)\n",
    "\n",
    "w = convert(Array{Float32}, model_pt.tokens_to_token.project.w)"
   ]
  },
  {
   "cell_type": "code",
   "execution_count": 146,
   "id": "e80c0a93-a77f-46c7-9b10-cc32092cc5cd",
   "metadata": {},
   "outputs": [
    {
     "data": {
      "image/png": "[encoded data removed]",
      "text/plain": [
       "384×576 reinterpret(reshape, Gray{Float32}, ::Matrix{Float32}) with eltype Gray{Float32}:\n",
       " Gray{Float32}(0.093636)     …  Gray{Float32}(0.0692792)\n",
       " Gray{Float32}(0.0241471)       Gray{Float32}(0.275704)\n",
       " Gray{Float32}(0.0236482)       Gray{Float32}(0.0574222)\n",
       " Gray{Float32}(0.000249398)     Gray{Float32}(0.114711)\n",
       " Gray{Float32}(0.0242238)       Gray{Float32}(0.071884)\n",
       " Gray{Float32}(0.00309575)   …  Gray{Float32}(0.0175602)\n",
       " Gray{Float32}(0.00502124)      Gray{Float32}(0.0356631)\n",
       " Gray{Float32}(0.0023825)       Gray{Float32}(0.0289385)\n",
       " Gray{Float32}(0.0387097)       Gray{Float32}(0.0695945)\n",
       " Gray{Float32}(0.026621)        Gray{Float32}(0.0668942)\n",
       " Gray{Float32}(0.0710253)    …  Gray{Float32}(0.0825972)\n",
       " Gray{Float32}(0.00188529)      Gray{Float32}(0.176273)\n",
       " Gray{Float32}(0.105926)        Gray{Float32}(0.293867)\n",
       " ⋮                           ⋱  ⋮\n",
       " Gray{Float32}(0.0263821)       Gray{Float32}(0.112595)\n",
       " Gray{Float32}(0.00196889)      Gray{Float32}(0.117276)\n",
       " Gray{Float32}(0.0262122)       Gray{Float32}(0.0606196)\n",
       " Gray{Float32}(0.0175495)    …  Gray{Float32}(0.130358)\n",
       " Gray{Float32}(0.0316663)       Gray{Float32}(0.104413)\n",
       " Gray{Float32}(0.0102729)       Gray{Float32}(0.0890476)\n",
       " Gray{Float32}(0.0597249)       Gray{Float32}(0.136762)\n",
       " Gray{Float32}(0.0375583)       Gray{Float32}(0.11044)\n",
       " Gray{Float32}(0.0934989)    …  Gray{Float32}(0.109873)\n",
       " Gray{Float32}(0.0497159)       Gray{Float32}(0.0804554)\n",
       " Gray{Float32}(0.0273188)       Gray{Float32}(0.10199)\n",
       " Gray{Float32}(0.0144102)       Gray{Float32}(0.00297382)"
      ]
     },
     "execution_count": 146,
     "metadata": {},
     "output_type": "execute_result"
    }
   ],
   "source": [
    "colorview(Gray, 3abs.(convert(Array{Float32}, w)))"
   ]
  },
  {
   "cell_type": "code",
   "execution_count": null,
   "id": "1611ff79-85c9-41cc-bb1f-7885fdf41a86",
   "metadata": {},
   "outputs": [],
   "source": []
  }
 ],
 "metadata": {
  "kernelspec": {
   "display_name": "Julia 1.6.3",
   "language": "julia",
   "name": "julia-1.6"
  },
  "language_info": {
   "file_extension": ".jl",
   "mimetype": "application/julia",
   "name": "julia",
   "version": "1.6.3"
  }
 },
 "nbformat": 4,
 "nbformat_minor": 5
}
