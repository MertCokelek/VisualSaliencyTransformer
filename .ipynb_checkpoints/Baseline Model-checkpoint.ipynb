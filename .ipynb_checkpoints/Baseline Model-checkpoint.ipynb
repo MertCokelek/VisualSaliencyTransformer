{
 "cells": [
  {
   "cell_type": "code",
   "execution_count": 87,
   "metadata": {
    "tags": []
   },
   "outputs": [
    {
     "data": {
      "text/plain": [
       "\"/scratch/users/mcokelek21/comp541\""
      ]
     },
     "execution_count": 87,
     "metadata": {},
     "output_type": "execute_result"
    }
   ],
   "source": [
    "# ;ls Data/DUTS/DUTS-TR/DUTS-TR-Mask/ILSVRC2012_test_00000004.png\n",
    "pwd()"
   ]
  },
  {
   "cell_type": "code",
   "execution_count": 15,
   "metadata": {
    "tags": []
   },
   "outputs": [],
   "source": [
    "# using Pkg\n",
    "# Pkg.add(\"Images\")\n",
    "# Pkg.add(\"FileIO\")"
   ]
  },
  {
   "cell_type": "code",
   "execution_count": 43,
   "metadata": {},
   "outputs": [],
   "source": [
    "using Images\n",
    "img_path = \"Data/DUTS/DUTS-TR/DUTS-TR-Image/ILSVRC2012_test_00000004.jpg\"\n",
    "img = load(img_path)\n",
    "\n",
    "mask_path = \"Data/DUTS/DUTS-TR/DUTS-TR-Mask/ILSVRC2012_test_00000004.png\"\n",
    "mask = load(mask_path);"
   ]
  },
  {
   "cell_type": "code",
   "execution_count": 45,
   "metadata": {},
   "outputs": [
    {
     "data": {
      "text/plain": [
       "((366, 400), (366, 400))"
      ]
     },
     "execution_count": 45,
     "metadata": {},
     "output_type": "execute_result"
    }
   ],
   "source": [
    "size(mask), size(img)  # VARIABLE SIZE"
   ]
  },
  {
   "cell_type": "code",
   "execution_count": 96,
   "metadata": {},
   "outputs": [],
   "source": [
    "train_image_paths = split(read(`ls -1v Data/DUTS/DUTS-TR/DUTS-TR-Image`, String));\n",
    "train_mask_paths = split(read(`ls -1v Data/DUTS/DUTS-TR/DUTS-TR-Mask`, String));\n",
    "\n",
    "test_image_paths = split(read(`ls -1v Data/DUTS/DUTS-TE/DUTS-TE-Image`, String));\n",
    "test_mask_paths = split(read(`ls -1v Data/DUTS/DUTS-TE/DUTS-TE-Mask`, String));\n",
    "\n",
    "train_image_paths = [\"/scratch/users/mcokelek21/comp541/Data/DUTS/DUTS-TR/DUTS-TR-Image/\"*i for i in train_image_paths]\n",
    "train_mask_paths = [\"/scratch/users/mcokelek21/comp541/Data/DUTS/DUTS-TR/DUTS-TR-Mask/\"*i for i in train_mask_paths]\n",
    "\n",
    "test_image_paths = [\"/scratch/users/mcokelek21/comp541/Data/DUTS/DUTS-TE/DUTS-TE-Image/\"*i for i in test_image_paths]\n",
    "test_mask_paths = [\"/scratch/users/mcokelek21/comp541/Data/DUTS/DUTS-TE/DUTS-TE-Mask/\"*i for i in test_mask_paths];"
   ]
  },
  {
   "cell_type": "code",
   "execution_count": 99,
   "metadata": {},
   "outputs": [],
   "source": [
    "# train_images = [load(path) for path in train_image_paths];\n",
    "# train_masks = [load(path) for path in train_mask_paths];\n",
    "# test_images = [load(path) for path in test_image_paths];\n",
    "# test_masks = [load(path) for path in test_mask_paths];\n",
    "\n",
    "train_images = 0\n",
    "train_masks = 0\n",
    "test_images = 0\n",
    "test_masks = 0;"
   ]
  },
  {
   "cell_type": "code",
   "execution_count": 225,
   "metadata": {},
   "outputs": [],
   "source": [
    "function minibatch(x, y, bs=16)\n",
    "    data = Any[]\n",
    "    n_instances = length(x)\n",
    "    n_batches = n_instances / bs\n",
    "    for batch = 1:4\n",
    "        xbatch = Any[]\n",
    "        ybatch = Any[]\n",
    "        \n",
    "        bs_range = batch == n_batches ?  n_instances-n_batches*bs : bs\n",
    "        for sample = 1:bs_range\n",
    "            push!(xbatch, imresize(load(x[bs * (batch-1) + sample]), (224, 224)));\n",
    "            push!(ybatch, imresize(load(y[bs * (batch-1) + sample]), (224, 224)));\n",
    "            # push!(ybatch, load(y[bs * (batch-1) + sample]));\n",
    "        end\n",
    "        push!(data,(xbatch,ybatch))\n",
    "    end\n",
    "    return data\n",
    "end\n",
    "train_dataloader = minibatch(train_image_paths, train_mask_paths);"
   ]
  }
 ],
 "metadata": {
  "kernelspec": {
   "display_name": "Julia 1.6.3",
   "language": "julia",
   "name": "julia-1.6"
  },
  "language_info": {
   "file_extension": ".jl",
   "mimetype": "application/julia",
   "name": "julia",
   "version": "1.6.3"
  }
 },
 "nbformat": 4,
 "nbformat_minor": 4
}
